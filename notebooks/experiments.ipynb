{
 "cells": [
  {
   "cell_type": "markdown",
   "metadata": {},
   "source": [
    "### 0. Импорты и инициализация"
   ]
  },
  {
   "cell_type": "code",
   "execution_count": null,
   "metadata": {},
   "outputs": [],
   "source": [
    "import logging\n",
    "import os\n",
    "\n",
    "import mlflow\n",
    "import numpy as np\n",
    "import pandas as pd\n",
    "import scipy\n",
    "import pickle\n",
    "\n",
    "from dotenv import load_dotenv\n",
    "from mlflow import MlflowClient\n",
    "from sklearn.preprocessing import LabelEncoder\n",
    "from implicit.als import AlternatingLeastSquares\n",
    "\n",
    "from utils.mlflow_shortcuts import create_unique_run_by_name, get_run_by_name\n",
    "from utils.s3_shortcuts import check_s3_credentials_in_environment"
   ]
  },
  {
   "cell_type": "code",
   "execution_count": 2,
   "metadata": {},
   "outputs": [],
   "source": [
    "from threadpoolctl import threadpool_limits\n",
    "\n",
    "# Следуем рекомендациям модуля implicit для оптимизации ALS\n",
    "threadpool_limits(1, \"blas\");"
   ]
  },
  {
   "cell_type": "code",
   "execution_count": 3,
   "metadata": {},
   "outputs": [],
   "source": [
    "# Настройка форматов\n",
    "pd.set_option('display.max_columns', None)\n",
    "pd.set_option('display.float_format',  '{:,.2f}'.format)"
   ]
  },
  {
   "cell_type": "code",
   "execution_count": 4,
   "metadata": {},
   "outputs": [],
   "source": [
    "# Загружаем переменные окружения\n",
    "load_dotenv()\n",
    "\n",
    "# Проверяем наличие необходимых переменных для доступа к S3\n",
    "check_s3_credentials_in_environment()\n",
    "\n",
    "# Проверяем наличие переменных для доступа к серверу mlfow\n",
    "assert os.getenv('MLFLOW_HOST') and os.getenv('MLFLOW_PORT')\n",
    "\n",
    "# Устанавливаем трекинг сервер\n",
    "mlflow.set_tracking_uri(\n",
    "    f\"http://{os.getenv('MLFLOW_HOST')}:{os.getenv('MLFLOW_PORT')}\"\n",
    ")\n",
    "\n",
    "# Устанавливаем уровень логгироания для mlflow\n",
    "logging.getLogger('mlflow').setLevel(logging.WARNING)"
   ]
  },
  {
   "cell_type": "code",
   "execution_count": 5,
   "metadata": {},
   "outputs": [],
   "source": [
    "RANDOM_STATE = 123\n",
    "\n",
    "EXPERIMENT_NAME = 'Final_project'\n",
    "\n",
    "RUN_NAME_GET_CAT_TREE = '1.1 ETL - category tree '\n",
    "RUN_NAME_GET_ITEMS = '1.2 ETL - item_properties'\n",
    "RUN_NAME_GET_EVENTS = '1.3 ETL - events'\n",
    "RUN_NAME_TRAIN_TEST_SPLIT = '2. Train/test split'\n",
    "RUN_NAME_TOP_POPULAR = '3.1 Top popular'\n",
    "RUN_NAME_NAIVE_ALS = '3.2 Naive ALS'\n",
    "RUN_NAME_WEIGHTED_ALS = '3.3 Weighted ALS'\n",
    "\n",
    "# Пути к .csv файлам с исходными данными\n",
    "PATH_CSV_CAT_TREE = '../data/category_tree.csv'\n",
    "PATH_CSV_ITEMS1 = '../data/item_properties_part1.csv'\n",
    "PATH_CSV_ITEMS2 = '../data/item_properties_part2.csv'\n",
    "PATH_CSV_EVENTS = '../data/events.csv'\n",
    "\n",
    "# Пути к предобработанным таблицам\n",
    "PATH_CLEAN_CAT_TREE = '../data/cat_tree.parquet'\n",
    "PATH_CLEAN_ITEMS = '../data/items.parquet'\n",
    "PATH_CLEAN_EVENTS = '../data/events.parquet'\n",
    "\n",
    "# Пути к обучающим/тестовым данным\n",
    "PATH_EVENTS_TRAIN = '../data/events_trian.parquet'\n",
    "PATH_EVENTS_TEST = '../data/events_test.parquet'\n",
    "PATH_ITEMS_TRAIN = '../data/items_trian.parquet'\n",
    "\n",
    "# Пути к результатам (моделям)\n",
    "PATH_TOP_POPULAR = 'models/top_popular.parquet'\n",
    "PATH_NAIVE_ALS = 'models/naive_als.parquet'\n",
    "PATH_WEIGHTED_ALS = 'models/weighted_als.parquet'"
   ]
  },
  {
   "cell_type": "code",
   "execution_count": null,
   "metadata": {},
   "outputs": [],
   "source": []
  },
  {
   "cell_type": "markdown",
   "metadata": {},
   "source": [
    "### 1. Загрузка и предобработка данных"
   ]
  },
  {
   "cell_type": "markdown",
   "metadata": {},
   "source": [
    "__Действия по очистке (фильтрации) даыннх по результатам EDA__\n",
    "\n",
    "- из каталога товаров удаляем товары с item_id, отсутствующим в дереве категорий\n",
    "- из всех признаков товаров, оставляем только category_id\n",
    "- из таблицы событий удаляем события, относящиеся к 'неизвестынм' товарам (отсутствующим в каталоге items)"
   ]
  },
  {
   "cell_type": "markdown",
   "metadata": {},
   "source": [
    "#### 1.1. Category tree ETL"
   ]
  },
  {
   "cell_type": "code",
   "execution_count": 6,
   "metadata": {},
   "outputs": [
    {
     "data": {
      "text/html": [
       "<div>\n",
       "<style scoped>\n",
       "    .dataframe tbody tr th:only-of-type {\n",
       "        vertical-align: middle;\n",
       "    }\n",
       "\n",
       "    .dataframe tbody tr th {\n",
       "        vertical-align: top;\n",
       "    }\n",
       "\n",
       "    .dataframe thead th {\n",
       "        text-align: right;\n",
       "    }\n",
       "</style>\n",
       "<table border=\"1\" class=\"dataframe\">\n",
       "  <thead>\n",
       "    <tr style=\"text-align: right;\">\n",
       "      <th></th>\n",
       "      <th>category_id</th>\n",
       "      <th>parent_id</th>\n",
       "    </tr>\n",
       "  </thead>\n",
       "  <tbody>\n",
       "    <tr>\n",
       "      <th>0</th>\n",
       "      <td>1016</td>\n",
       "      <td>213.00</td>\n",
       "    </tr>\n",
       "    <tr>\n",
       "      <th>1</th>\n",
       "      <td>809</td>\n",
       "      <td>169.00</td>\n",
       "    </tr>\n",
       "    <tr>\n",
       "      <th>2</th>\n",
       "      <td>570</td>\n",
       "      <td>9.00</td>\n",
       "    </tr>\n",
       "  </tbody>\n",
       "</table>\n",
       "</div>"
      ],
      "text/plain": [
       "   category_id  parent_id\n",
       "0         1016     213.00\n",
       "1          809     169.00\n",
       "2          570       9.00"
      ]
     },
     "execution_count": 6,
     "metadata": {},
     "output_type": "execute_result"
    }
   ],
   "source": [
    "# Загружаем данные из .csv и переименовываем столбцы\n",
    "cat_tree = (\n",
    "    pd.read_csv(PATH_CSV_CAT_TREE)\n",
    "    .rename(columns={\n",
    "        'categoryid': 'category_id',\n",
    "        'parentid': 'parent_id'\n",
    "    })\n",
    ")\n",
    "\n",
    "cat_tree.head(3)"
   ]
  },
  {
   "cell_type": "code",
   "execution_count": 7,
   "metadata": {},
   "outputs": [],
   "source": [
    "# Проверка на отсутствие дубликатов category_id\n",
    "assert cat_tree['category_id'].duplicated().sum() == 0"
   ]
  },
  {
   "cell_type": "code",
   "execution_count": 8,
   "metadata": {},
   "outputs": [
    {
     "data": {
      "text/html": [
       "<div>\n",
       "<style scoped>\n",
       "    .dataframe tbody tr th:only-of-type {\n",
       "        vertical-align: middle;\n",
       "    }\n",
       "\n",
       "    .dataframe tbody tr th {\n",
       "        vertical-align: top;\n",
       "    }\n",
       "\n",
       "    .dataframe thead th {\n",
       "        text-align: right;\n",
       "    }\n",
       "</style>\n",
       "<table border=\"1\" class=\"dataframe\">\n",
       "  <thead>\n",
       "    <tr style=\"text-align: right;\">\n",
       "      <th></th>\n",
       "      <th>category_id</th>\n",
       "      <th>parent_id</th>\n",
       "      <th>parents</th>\n",
       "    </tr>\n",
       "  </thead>\n",
       "  <tbody>\n",
       "    <tr>\n",
       "      <th>0</th>\n",
       "      <td>1016</td>\n",
       "      <td>213.00</td>\n",
       "      <td>(1532, 1299, 213)</td>\n",
       "    </tr>\n",
       "    <tr>\n",
       "      <th>1</th>\n",
       "      <td>809</td>\n",
       "      <td>169.00</td>\n",
       "      <td>(395, 1257, 169)</td>\n",
       "    </tr>\n",
       "    <tr>\n",
       "      <th>2</th>\n",
       "      <td>570</td>\n",
       "      <td>9.00</td>\n",
       "      <td>(653, 351, 9)</td>\n",
       "    </tr>\n",
       "  </tbody>\n",
       "</table>\n",
       "</div>"
      ],
      "text/plain": [
       "   category_id  parent_id            parents\n",
       "0         1016     213.00  (1532, 1299, 213)\n",
       "1          809     169.00   (395, 1257, 169)\n",
       "2          570       9.00      (653, 351, 9)"
      ]
     },
     "execution_count": 8,
     "metadata": {},
     "output_type": "execute_result"
    }
   ],
   "source": [
    "# Добалвяем столбец 'parents' с перечнем родителей\n",
    "cat_tree['parents'] = pd.NA\n",
    "\n",
    "# Получим содержимое таблицы в виде списка кортежей (category_id, parent_id)\n",
    "categories = list(cat_tree[['category_id', 'parent_id']]\n",
    "                  .itertuples(index=False))\n",
    "\n",
    "# Временно поменяем индекс таблицы на 'category_id'\n",
    "cat_tree.set_index('category_id', inplace=True)\n",
    "\n",
    "# Итерируем, пока в списке кортежей есть элементы (необработанне категории)\n",
    "while (categories_left := len(categories)):\n",
    "\n",
    "    # Проходим по копии (!) списка необработанных категорий\n",
    "    for category_id, parent_id in list(categories):\n",
    "        \n",
    "        # Если категория не является категорией верхнего уровня\n",
    "        # И ее родительская категория еще не обработана (не размечена в таблице)\n",
    "        # переходим к следующей\n",
    "        if (\n",
    "            pd.notna(parent_id) \n",
    "            and parent_id not in (\n",
    "               cat_tree[cat_tree['parents'].notna()].index\n",
    "            )\n",
    "        ):\n",
    "            continue\n",
    "\n",
    "        # Для всех категорий, кроме верхнего уровня, список родителей это:\n",
    "        # родители родителя плюс сам родитель :)\n",
    "        # А для верхнего уровня список родителей пустой.\n",
    "        cat_tree.at[category_id, 'parents'] = (\n",
    "            cat_tree.at[parent_id, 'parents'] + [int(parent_id)]\n",
    "            if pd.notna(parent_id) else []\n",
    "        )\n",
    "            \n",
    "        # Удаляем категорию из списка необработанных \n",
    "        categories.pop(categories.index((category_id, parent_id)))\n",
    "\n",
    "    # Если после прохода число категорий в списке не уменьшилось\n",
    "    # то прерываем цикл (битые данные: категории с неизвестными parent_id) \n",
    "    if len(categories) == categories_left:\n",
    "        break\n",
    "\n",
    "# Возвращаем 'category_id' обратно в столбцы \n",
    "cat_tree.reset_index(inplace=True)\n",
    "\n",
    "# Перепакуем списки в кортежи\n",
    "cat_tree['parents'] = cat_tree['parents'].map(\n",
    "    lambda x: tuple(x) if isinstance(x, list) else x\n",
    ")\n",
    "\n",
    "# Проверяем, что обработали все категории\n",
    "assert len(categories) == 0\n",
    "\n",
    "# Визуальная проверка результата\n",
    "cat_tree.head(3)"
   ]
  },
  {
   "cell_type": "code",
   "execution_count": 9,
   "metadata": {},
   "outputs": [
    {
     "data": {
      "text/html": [
       "<div>\n",
       "<style scoped>\n",
       "    .dataframe tbody tr th:only-of-type {\n",
       "        vertical-align: middle;\n",
       "    }\n",
       "\n",
       "    .dataframe tbody tr th {\n",
       "        vertical-align: top;\n",
       "    }\n",
       "\n",
       "    .dataframe thead th {\n",
       "        text-align: right;\n",
       "    }\n",
       "</style>\n",
       "<table border=\"1\" class=\"dataframe\">\n",
       "  <thead>\n",
       "    <tr style=\"text-align: right;\">\n",
       "      <th></th>\n",
       "      <th>category_id</th>\n",
       "      <th>parent_id</th>\n",
       "      <th>parents</th>\n",
       "      <th>top_cat_id</th>\n",
       "    </tr>\n",
       "  </thead>\n",
       "  <tbody>\n",
       "    <tr>\n",
       "      <th>1666</th>\n",
       "      <td>1336</td>\n",
       "      <td>745.00</td>\n",
       "      <td>(140, 540, 745)</td>\n",
       "      <td>140</td>\n",
       "    </tr>\n",
       "    <tr>\n",
       "      <th>1667</th>\n",
       "      <td>689</td>\n",
       "      <td>207.00</td>\n",
       "      <td>(1490, 207)</td>\n",
       "      <td>1490</td>\n",
       "    </tr>\n",
       "    <tr>\n",
       "      <th>1668</th>\n",
       "      <td>761</td>\n",
       "      <td>395.00</td>\n",
       "      <td>(395,)</td>\n",
       "      <td>395</td>\n",
       "    </tr>\n",
       "  </tbody>\n",
       "</table>\n",
       "</div>"
      ],
      "text/plain": [
       "      category_id  parent_id          parents  top_cat_id\n",
       "1666         1336     745.00  (140, 540, 745)         140\n",
       "1667          689     207.00      (1490, 207)        1490\n",
       "1668          761     395.00           (395,)         395"
      ]
     },
     "execution_count": 9,
     "metadata": {},
     "output_type": "execute_result"
    }
   ],
   "source": [
    "# Добавляем признак категории верхнего уровня\n",
    "cat_tree['top_cat_id'] = (\n",
    "    cat_tree[['category_id', 'parents']]\n",
    "    .apply(lambda x: x.parents[0] if x.parents else x.category_id, axis=1)\n",
    ")\n",
    "\n",
    "# Визуальная проверка\n",
    "cat_tree.tail(3)"
   ]
  },
  {
   "cell_type": "code",
   "execution_count": 10,
   "metadata": {},
   "outputs": [],
   "source": [
    "# Сохраняем обработанную таблицу локально\n",
    "cat_tree.to_parquet(PATH_CLEAN_CAT_TREE)"
   ]
  },
  {
   "cell_type": "code",
   "execution_count": 11,
   "metadata": {},
   "outputs": [],
   "source": [
    "# Логируем артефакты шага\n",
    "with mlflow.start_run(\n",
    "    run_id=create_unique_run_by_name(EXPERIMENT_NAME, RUN_NAME_GET_CAT_TREE)\n",
    "):\n",
    "    mlflow.log_artifact(PATH_CLEAN_CAT_TREE)"
   ]
  },
  {
   "cell_type": "markdown",
   "metadata": {},
   "source": [
    "#### 1.2. Items ETL"
   ]
  },
  {
   "cell_type": "code",
   "execution_count": 12,
   "metadata": {},
   "outputs": [
    {
     "data": {
      "text/html": [
       "<div>\n",
       "<style scoped>\n",
       "    .dataframe tbody tr th:only-of-type {\n",
       "        vertical-align: middle;\n",
       "    }\n",
       "\n",
       "    .dataframe tbody tr th {\n",
       "        vertical-align: top;\n",
       "    }\n",
       "\n",
       "    .dataframe thead th {\n",
       "        text-align: right;\n",
       "    }\n",
       "</style>\n",
       "<table border=\"1\" class=\"dataframe\">\n",
       "  <thead>\n",
       "    <tr style=\"text-align: right;\">\n",
       "      <th></th>\n",
       "      <th>timestamp</th>\n",
       "      <th>item_id</th>\n",
       "      <th>property</th>\n",
       "      <th>value</th>\n",
       "    </tr>\n",
       "  </thead>\n",
       "  <tbody>\n",
       "    <tr>\n",
       "      <th>0</th>\n",
       "      <td>1435460400000</td>\n",
       "      <td>460429</td>\n",
       "      <td>categoryid</td>\n",
       "      <td>1338</td>\n",
       "    </tr>\n",
       "    <tr>\n",
       "      <th>1</th>\n",
       "      <td>1441508400000</td>\n",
       "      <td>206783</td>\n",
       "      <td>888</td>\n",
       "      <td>1116713 960601 n277.200</td>\n",
       "    </tr>\n",
       "    <tr>\n",
       "      <th>2</th>\n",
       "      <td>1439089200000</td>\n",
       "      <td>395014</td>\n",
       "      <td>400</td>\n",
       "      <td>n552.000 639502 n720.000 424566</td>\n",
       "    </tr>\n",
       "  </tbody>\n",
       "</table>\n",
       "</div>"
      ],
      "text/plain": [
       "       timestamp  item_id    property                            value\n",
       "0  1435460400000   460429  categoryid                             1338\n",
       "1  1441508400000   206783         888          1116713 960601 n277.200\n",
       "2  1439089200000   395014         400  n552.000 639502 n720.000 424566"
      ]
     },
     "execution_count": 12,
     "metadata": {},
     "output_type": "execute_result"
    }
   ],
   "source": [
    "# Загружаем данные из таблиц, переименовываем столбцы\n",
    "items = pd.concat([\n",
    "    pd.read_csv(PATH_CSV_ITEMS1),\n",
    "    pd.read_csv(PATH_CSV_ITEMS2)\n",
    "]).rename(columns={'itemid': 'item_id'})\n",
    "\n",
    "items.head(3)"
   ]
  },
  {
   "cell_type": "code",
   "execution_count": 13,
   "metadata": {},
   "outputs": [
    {
     "data": {
      "text/html": [
       "<div>\n",
       "<style scoped>\n",
       "    .dataframe tbody tr th:only-of-type {\n",
       "        vertical-align: middle;\n",
       "    }\n",
       "\n",
       "    .dataframe tbody tr th {\n",
       "        vertical-align: top;\n",
       "    }\n",
       "\n",
       "    .dataframe thead th {\n",
       "        text-align: right;\n",
       "    }\n",
       "</style>\n",
       "<table border=\"1\" class=\"dataframe\">\n",
       "  <thead>\n",
       "    <tr style=\"text-align: right;\">\n",
       "      <th></th>\n",
       "      <th>timestamp</th>\n",
       "      <th>item_id</th>\n",
       "      <th>property</th>\n",
       "      <th>value</th>\n",
       "    </tr>\n",
       "  </thead>\n",
       "  <tbody>\n",
       "    <tr>\n",
       "      <th>0</th>\n",
       "      <td>2015-06-28 03:00:00</td>\n",
       "      <td>460429</td>\n",
       "      <td>categoryid</td>\n",
       "      <td>1338</td>\n",
       "    </tr>\n",
       "    <tr>\n",
       "      <th>140</th>\n",
       "      <td>2015-05-24 03:00:00</td>\n",
       "      <td>281245</td>\n",
       "      <td>categoryid</td>\n",
       "      <td>1277</td>\n",
       "    </tr>\n",
       "    <tr>\n",
       "      <th>151</th>\n",
       "      <td>2015-06-28 03:00:00</td>\n",
       "      <td>35575</td>\n",
       "      <td>categoryid</td>\n",
       "      <td>1059</td>\n",
       "    </tr>\n",
       "  </tbody>\n",
       "</table>\n",
       "</div>"
      ],
      "text/plain": [
       "              timestamp  item_id    property  value\n",
       "0   2015-06-28 03:00:00   460429  categoryid   1338\n",
       "140 2015-05-24 03:00:00   281245  categoryid   1277\n",
       "151 2015-06-28 03:00:00    35575  categoryid   1059"
      ]
     },
     "execution_count": 13,
     "metadata": {},
     "output_type": "execute_result"
    }
   ],
   "source": [
    "# Из всех значений 'property' оставляем только 'categoryid',\n",
    "# приводим 'value' к типу int\n",
    "items = (\n",
    "    items[items['property'] == 'categoryid']\n",
    "    .astype(dtype={'value': 'int'})\n",
    ")\n",
    "\n",
    "# Приводим 'timestamp' к типу datetime\n",
    "items['timestamp'] = pd.to_datetime(\n",
    "    items['timestamp'], unit='ms'\n",
    ")\n",
    "\n",
    "# Визуальная проверка\n",
    "items.head(3)"
   ]
  },
  {
   "cell_type": "code",
   "execution_count": 14,
   "metadata": {},
   "outputs": [
    {
     "data": {
      "text/html": [
       "<div>\n",
       "<style scoped>\n",
       "    .dataframe tbody tr th:only-of-type {\n",
       "        vertical-align: middle;\n",
       "    }\n",
       "\n",
       "    .dataframe tbody tr th {\n",
       "        vertical-align: top;\n",
       "    }\n",
       "\n",
       "    .dataframe thead th {\n",
       "        text-align: right;\n",
       "    }\n",
       "</style>\n",
       "<table border=\"1\" class=\"dataframe\">\n",
       "  <thead>\n",
       "    <tr style=\"text-align: right;\">\n",
       "      <th></th>\n",
       "      <th>timestamp</th>\n",
       "      <th>item_id</th>\n",
       "      <th>category_id</th>\n",
       "    </tr>\n",
       "  </thead>\n",
       "  <tbody>\n",
       "    <tr>\n",
       "      <th>0</th>\n",
       "      <td>2015-05-10 03:00:00</td>\n",
       "      <td>0</td>\n",
       "      <td>209</td>\n",
       "    </tr>\n",
       "    <tr>\n",
       "      <th>1</th>\n",
       "      <td>2015-05-10 03:00:00</td>\n",
       "      <td>1</td>\n",
       "      <td>1114</td>\n",
       "    </tr>\n",
       "    <tr>\n",
       "      <th>2</th>\n",
       "      <td>2015-05-10 03:00:00</td>\n",
       "      <td>2</td>\n",
       "      <td>1305</td>\n",
       "    </tr>\n",
       "  </tbody>\n",
       "</table>\n",
       "</div>"
      ],
      "text/plain": [
       "            timestamp  item_id  category_id\n",
       "0 2015-05-10 03:00:00        0          209\n",
       "1 2015-05-10 03:00:00        1         1114\n",
       "2 2015-05-10 03:00:00        2         1305"
      ]
     },
     "execution_count": 14,
     "metadata": {},
     "output_type": "execute_result"
    }
   ],
   "source": [
    "# Удалим столбец 'property', столбец 'value' переименуем в 'category_id'\n",
    "items = (\n",
    "    items\n",
    "    .drop(columns='property')\n",
    "    .rename(columns={'value': 'category_id'})\n",
    "    # Отсортируем таблицу\n",
    "    .sort_values(by=['item_id', 'timestamp'], ignore_index=True)\n",
    ")\n",
    "\n",
    "# Визуальная проверка\n",
    "items.head(3)"
   ]
  },
  {
   "cell_type": "code",
   "execution_count": 15,
   "metadata": {},
   "outputs": [
    {
     "data": {
      "text/html": [
       "<div>\n",
       "<style scoped>\n",
       "    .dataframe tbody tr th:only-of-type {\n",
       "        vertical-align: middle;\n",
       "    }\n",
       "\n",
       "    .dataframe tbody tr th {\n",
       "        vertical-align: top;\n",
       "    }\n",
       "\n",
       "    .dataframe thead th {\n",
       "        text-align: right;\n",
       "    }\n",
       "</style>\n",
       "<table border=\"1\" class=\"dataframe\">\n",
       "  <thead>\n",
       "    <tr style=\"text-align: right;\">\n",
       "      <th></th>\n",
       "      <th>category_id</th>\n",
       "      <th>parent_id</th>\n",
       "      <th>parents</th>\n",
       "      <th>top_cat_id</th>\n",
       "    </tr>\n",
       "  </thead>\n",
       "  <tbody>\n",
       "    <tr>\n",
       "      <th>0</th>\n",
       "      <td>1016</td>\n",
       "      <td>213.00</td>\n",
       "      <td>[1532, 1299, 213]</td>\n",
       "      <td>1532</td>\n",
       "    </tr>\n",
       "    <tr>\n",
       "      <th>1</th>\n",
       "      <td>809</td>\n",
       "      <td>169.00</td>\n",
       "      <td>[395, 1257, 169]</td>\n",
       "      <td>395</td>\n",
       "    </tr>\n",
       "    <tr>\n",
       "      <th>2</th>\n",
       "      <td>570</td>\n",
       "      <td>9.00</td>\n",
       "      <td>[653, 351, 9]</td>\n",
       "      <td>653</td>\n",
       "    </tr>\n",
       "  </tbody>\n",
       "</table>\n",
       "</div>"
      ],
      "text/plain": [
       "   category_id  parent_id            parents  top_cat_id\n",
       "0         1016     213.00  [1532, 1299, 213]        1532\n",
       "1          809     169.00   [395, 1257, 169]         395\n",
       "2          570       9.00      [653, 351, 9]         653"
      ]
     },
     "execution_count": 15,
     "metadata": {},
     "output_type": "execute_result"
    }
   ],
   "source": [
    "# Загрузим подготовленную таблицу с деревом категорий\n",
    "cat_tree = pd.read_parquet(PATH_CLEAN_CAT_TREE)\n",
    "\n",
    "cat_tree.head(3)"
   ]
  },
  {
   "cell_type": "code",
   "execution_count": 16,
   "metadata": {},
   "outputs": [
    {
     "data": {
      "text/html": [
       "<div>\n",
       "<style scoped>\n",
       "    .dataframe tbody tr th:only-of-type {\n",
       "        vertical-align: middle;\n",
       "    }\n",
       "\n",
       "    .dataframe tbody tr th {\n",
       "        vertical-align: top;\n",
       "    }\n",
       "\n",
       "    .dataframe thead th {\n",
       "        text-align: right;\n",
       "    }\n",
       "</style>\n",
       "<table border=\"1\" class=\"dataframe\">\n",
       "  <thead>\n",
       "    <tr style=\"text-align: right;\">\n",
       "      <th></th>\n",
       "      <th>timestamp</th>\n",
       "      <th>item_id</th>\n",
       "      <th>category_id</th>\n",
       "      <th>parents</th>\n",
       "      <th>top_cat_id</th>\n",
       "    </tr>\n",
       "  </thead>\n",
       "  <tbody>\n",
       "    <tr>\n",
       "      <th>0</th>\n",
       "      <td>2015-05-10 03:00:00</td>\n",
       "      <td>0</td>\n",
       "      <td>209</td>\n",
       "      <td>[1532, 293]</td>\n",
       "      <td>1532</td>\n",
       "    </tr>\n",
       "    <tr>\n",
       "      <th>1</th>\n",
       "      <td>2015-05-10 03:00:00</td>\n",
       "      <td>1</td>\n",
       "      <td>1114</td>\n",
       "      <td>[1532, 113]</td>\n",
       "      <td>1532</td>\n",
       "    </tr>\n",
       "    <tr>\n",
       "      <th>2</th>\n",
       "      <td>2015-05-10 03:00:00</td>\n",
       "      <td>2</td>\n",
       "      <td>1305</td>\n",
       "      <td>[653, 1202, 1214]</td>\n",
       "      <td>653</td>\n",
       "    </tr>\n",
       "  </tbody>\n",
       "</table>\n",
       "</div>"
      ],
      "text/plain": [
       "            timestamp  item_id  category_id            parents  top_cat_id\n",
       "0 2015-05-10 03:00:00        0          209        [1532, 293]        1532\n",
       "1 2015-05-10 03:00:00        1         1114        [1532, 113]        1532\n",
       "2 2015-05-10 03:00:00        2         1305  [653, 1202, 1214]         653"
      ]
     },
     "execution_count": 16,
     "metadata": {},
     "output_type": "execute_result"
    }
   ],
   "source": [
    "# Добавим в таблицу items признаки 'parents', 'top_cat_id'\n",
    "items = items.merge(\n",
    "    cat_tree[['category_id', 'parents', 'top_cat_id']],\n",
    "    on='category_id',\n",
    "    how='inner' \n",
    ").reset_index(drop=True)\n",
    "\n",
    "items.head(3)"
   ]
  },
  {
   "cell_type": "code",
   "execution_count": 17,
   "metadata": {},
   "outputs": [],
   "source": [
    "# Сохраним обработанную таблицу локально\n",
    "items.to_parquet(PATH_CLEAN_ITEMS)"
   ]
  },
  {
   "cell_type": "code",
   "execution_count": 18,
   "metadata": {},
   "outputs": [],
   "source": [
    "# Логируем артефакты шага\n",
    "with mlflow.start_run(\n",
    "    run_id=create_unique_run_by_name(EXPERIMENT_NAME, RUN_NAME_GET_ITEMS)\n",
    "):\n",
    "    mlflow.log_artifact(PATH_CLEAN_ITEMS)"
   ]
  },
  {
   "cell_type": "markdown",
   "metadata": {},
   "source": [
    "#### 1.3. Events ETL"
   ]
  },
  {
   "cell_type": "code",
   "execution_count": 19,
   "metadata": {},
   "outputs": [
    {
     "data": {
      "text/html": [
       "<div>\n",
       "<style scoped>\n",
       "    .dataframe tbody tr th:only-of-type {\n",
       "        vertical-align: middle;\n",
       "    }\n",
       "\n",
       "    .dataframe tbody tr th {\n",
       "        vertical-align: top;\n",
       "    }\n",
       "\n",
       "    .dataframe thead th {\n",
       "        text-align: right;\n",
       "    }\n",
       "</style>\n",
       "<table border=\"1\" class=\"dataframe\">\n",
       "  <thead>\n",
       "    <tr style=\"text-align: right;\">\n",
       "      <th></th>\n",
       "      <th>timestamp</th>\n",
       "      <th>user_id</th>\n",
       "      <th>event</th>\n",
       "      <th>item_id</th>\n",
       "      <th>transaction_id</th>\n",
       "    </tr>\n",
       "  </thead>\n",
       "  <tbody>\n",
       "    <tr>\n",
       "      <th>0</th>\n",
       "      <td>2015-05-03 03:00:04.384</td>\n",
       "      <td>693516</td>\n",
       "      <td>addtocart</td>\n",
       "      <td>297662</td>\n",
       "      <td>NaN</td>\n",
       "    </tr>\n",
       "    <tr>\n",
       "      <th>1</th>\n",
       "      <td>2015-05-03 03:00:11.289</td>\n",
       "      <td>829044</td>\n",
       "      <td>view</td>\n",
       "      <td>60987</td>\n",
       "      <td>NaN</td>\n",
       "    </tr>\n",
       "    <tr>\n",
       "      <th>2</th>\n",
       "      <td>2015-05-03 03:00:13.048</td>\n",
       "      <td>652699</td>\n",
       "      <td>view</td>\n",
       "      <td>252860</td>\n",
       "      <td>NaN</td>\n",
       "    </tr>\n",
       "  </tbody>\n",
       "</table>\n",
       "</div>"
      ],
      "text/plain": [
       "                timestamp  user_id      event  item_id  transaction_id\n",
       "0 2015-05-03 03:00:04.384   693516  addtocart   297662             NaN\n",
       "1 2015-05-03 03:00:11.289   829044       view    60987             NaN\n",
       "2 2015-05-03 03:00:13.048   652699       view   252860             NaN"
      ]
     },
     "execution_count": 19,
     "metadata": {},
     "output_type": "execute_result"
    }
   ],
   "source": [
    "# Загружаем данные из таблицы, переименовываем столбцы и сортируем таблицу\n",
    "events = (\n",
    "    pd.read_csv(PATH_CSV_EVENTS)\n",
    "    .rename(columns={\n",
    "        'visitorid': 'user_id',\n",
    "        'itemid': 'item_id',\n",
    "        'transactionid': 'transaction_id'\n",
    "    })\n",
    "    .sort_values(by='timestamp', ignore_index=True)\n",
    ")\n",
    "\n",
    "# Приведем timestamp к типу datetime\n",
    "events['timestamp'] = pd.to_datetime(events['timestamp'], unit='ms')\n",
    "\n",
    "events.head(3)"
   ]
  },
  {
   "cell_type": "code",
   "execution_count": 20,
   "metadata": {},
   "outputs": [],
   "source": [
    "# Удалим из таблицы событий товары, отсутствующие в каталоге items\n",
    "events = events[\n",
    "    events['item_id'].isin(items['item_id'].drop_duplicates())\n",
    "].reset_index(drop=True)"
   ]
  },
  {
   "cell_type": "code",
   "execution_count": 21,
   "metadata": {},
   "outputs": [],
   "source": [
    "# Сохраняем обработанную таблицу локально\n",
    "events.to_parquet(PATH_CLEAN_EVENTS)"
   ]
  },
  {
   "cell_type": "code",
   "execution_count": 22,
   "metadata": {},
   "outputs": [],
   "source": [
    "# Логируем артефакты шага\n",
    "with mlflow.start_run(\n",
    "    run_id=create_unique_run_by_name(EXPERIMENT_NAME, RUN_NAME_GET_EVENTS)\n",
    "):\n",
    "    mlflow.log_artifact(PATH_CLEAN_EVENTS)"
   ]
  },
  {
   "cell_type": "markdown",
   "metadata": {},
   "source": [
    "### 2. Разбиение выборки"
   ]
  },
  {
   "cell_type": "code",
   "execution_count": 23,
   "metadata": {},
   "outputs": [],
   "source": [
    "# Загружаем предобработанные данные\n",
    "items = pd.read_parquet(PATH_CLEAN_ITEMS)\n",
    "events= pd.read_parquet(PATH_CLEAN_EVENTS)\n",
    "\n",
    "# Сортируем по времени\n",
    "items.sort_values('timestamp', ignore_index=True, inplace=True)\n",
    "events.sort_values('timestamp', ignore_index=True, inplace=True)"
   ]
  },
  {
   "cell_type": "markdown",
   "metadata": {},
   "source": [
    "В качестве разделяющей даты выберем __1 сентября__ :)\n",
    "- _строго до_ 1 сентября - обучающие события\n",
    "- с 1 сенятбря _включительно_ - тестовые события"
   ]
  },
  {
   "cell_type": "code",
   "execution_count": 24,
   "metadata": {},
   "outputs": [],
   "source": [
    "# Временная точка разделения обучающей/тестовой выборки\n",
    "SPLIT_DATETIME = pd.to_datetime('2015-09-01')"
   ]
  },
  {
   "cell_type": "code",
   "execution_count": 25,
   "metadata": {},
   "outputs": [],
   "source": [
    "# Разбиваем события на обучающую и тестовую выборки\n",
    "events_train = events[events['timestamp'] < SPLIT_DATETIME]\n",
    "events_test = events[events['timestamp'] >= SPLIT_DATETIME]"
   ]
  },
  {
   "cell_type": "markdown",
   "metadata": {},
   "source": [
    "__NB:__ Поскольку свойства товаров в каталоге items изменяются со временем, сформируем обучающий каталог товарв items_train - состояние каталога на момент обучения модели (на 1 сентября), оставим в таблице только последние по времени записи о признаках (категории) товаров."
   ]
  },
  {
   "cell_type": "code",
   "execution_count": 26,
   "metadata": {},
   "outputs": [],
   "source": [
    "# Каталог товаров для обучения модели\n",
    "items_train = (\n",
    "    items[items['timestamp'] < SPLIT_DATETIME]\n",
    "    .sort_values(by='timestamp', ascending=True)\n",
    "    .groupby('item_id')\n",
    "    .tail(1)  # оставляем только последнее значение признака\n",
    "    .reset_index(drop=True)\n",
    ")"
   ]
  },
  {
   "cell_type": "markdown",
   "metadata": {},
   "source": [
    "Удалим из обучающей выборки события для товаров, которые отсутствуют в 'обучающем' какталоге товаров, т.е. свойства которых неизвестны на момент обучения модели"
   ]
  },
  {
   "cell_type": "code",
   "execution_count": 27,
   "metadata": {},
   "outputs": [],
   "source": [
    "events_train = (\n",
    "    events_train[\n",
    "        events_train['item_id']\n",
    "        .isin(items_train['item_id'].drop_duplicates())\n",
    "    ]\n",
    "    .reset_index(drop=True)\n",
    ")"
   ]
  },
  {
   "cell_type": "code",
   "execution_count": 28,
   "metadata": {},
   "outputs": [],
   "source": [
    "# Сохраняем таблицы локально\n",
    "events_train.to_parquet(PATH_EVENTS_TRAIN)\n",
    "events_test.to_parquet(PATH_EVENTS_TEST)\n",
    "items_train.to_parquet(PATH_ITEMS_TRAIN)"
   ]
  },
  {
   "cell_type": "code",
   "execution_count": 29,
   "metadata": {},
   "outputs": [],
   "source": [
    "# Логируем артефакты шага\n",
    "with mlflow.start_run(\n",
    "    run_id=create_unique_run_by_name(EXPERIMENT_NAME, RUN_NAME_TRAIN_TEST_SPLIT)\n",
    "):\n",
    "    mlflow.log_artifact(PATH_EVENTS_TRAIN)\n",
    "    mlflow.log_artifact(PATH_EVENTS_TEST)\n",
    "    mlflow.log_artifact(PATH_ITEMS_TRAIN)"
   ]
  },
  {
   "cell_type": "markdown",
   "metadata": {},
   "source": [
    "### 3. Оффлайн метрики"
   ]
  },
  {
   "cell_type": "markdown",
   "metadata": {},
   "source": [
    "Подготовим функции для расчета различных метрик для оффлайн рекомендаций:\n",
    "- precision@K1, recall@K1 - точность и полнота для среза топ-K1 рекомендаций\n",
    "- coverage@K2 - покрытие по объектам для cреза топ-K2 рекомендаций"
   ]
  },
  {
   "cell_type": "code",
   "execution_count": 30,
   "metadata": {},
   "outputs": [],
   "source": [
    "def get_precision_recall_metrics(\n",
    "    recs: pd.DataFrame,     \n",
    "    events_test: pd.DataFrame,  \n",
    "    K_prc_rec: int = 5\n",
    "):\n",
    "    \"\"\"Calculate precision@K, recall@K metrics.\n",
    "\n",
    "    Parameters\n",
    "    ----------\n",
    "    - recs: reccomendations table containing `user_id, item_id, score` columns\n",
    "    - events_test: events table containing `user_id, item_id`\n",
    "    - K_prc_rec: at_K value for precision and recall \n",
    "    \"\"\"\n",
    "\n",
    "    # Расчет будем вести по пользователям, удовлетворяющим двум условиям:\n",
    "    # 1) для них были даны рекомендации\n",
    "    # 2) они взаимодействовали с объектами в тестовый период \n",
    "    effective_users = (\n",
    "        set(recs['user_id'].drop_duplicates()) \n",
    "        & set(events_test['user_id'].drop_duplicates())\n",
    "    )\n",
    "    events_test = (\n",
    "        events_test\n",
    "        .query('user_id in @effective_users')\n",
    "        .reset_index(drop=True)\n",
    "        .copy()\n",
    "    )\n",
    "    recs = (\n",
    "        recs\n",
    "        .query('user_id in @effective_users')\n",
    "        # Оставляем только top-K рекомендаций для каждого пользователя\n",
    "        .sort_values(by=['user_id', 'score'], ascending=[True, False],\n",
    "                     ignore_index=True)\n",
    "        .groupby('user_id')\n",
    "        .head(K_prc_rec)\n",
    "        .reset_index(drop=True)\n",
    "        .copy()\n",
    "    )\n",
    "\n",
    "    # Помечаем события в тестовой выборке как 'ground truth'\n",
    "    events_test['gt'] = True\n",
    "\n",
    "    # Сливаем события тестовой выборки с рекомендациями\n",
    "    events_recs = (\n",
    "        events_test[['user_id', 'item_id', 'gt']]\n",
    "        .merge(\n",
    "            recs[['user_id', 'item_id', 'score']],\n",
    "            on=['user_id', 'item_id'],\n",
    "            how='outer'\n",
    "        )\n",
    "    )\n",
    "\n",
    "    # Для НЕрелевантных рекомендации 'gt' = NaN заменяем на False \n",
    "    events_recs['gt'] = events_recs['gt'].notna()\n",
    "\n",
    "    # Размечаем рекомендованные объекты (имеющие score) как 'rec': True\n",
    "    events_recs['rec'] = events_recs['score'].notna()\n",
    "\n",
    "    # Размечаем true positive, false positive и false negative\n",
    "    events_recs['tp'] = events_recs['gt'] & events_recs['rec']\n",
    "    events_recs['fp'] = ~events_recs['gt'] & events_recs['rec']\n",
    "    events_recs['fn'] = events_recs['gt'] & ~events_recs['rec']\n",
    "\n",
    "    grouped = events_recs.groupby('user_id')\n",
    "\n",
    "    precision = (\n",
    "        grouped['tp'].sum() / (grouped['tp'].sum() + grouped['fp'].sum())\n",
    "    )\n",
    "    precision = precision.fillna(0).mean()\n",
    "\n",
    "    recall = (\n",
    "        grouped['tp'].sum() / (grouped['tp'].sum() + grouped['fn'].sum())\n",
    "    )\n",
    "    recall = recall.fillna(0).mean()\n",
    "\n",
    "    return (precision, recall)"
   ]
  },
  {
   "cell_type": "code",
   "execution_count": 31,
   "metadata": {},
   "outputs": [],
   "source": [
    "def get_item_coverage_metric(\n",
    "    recs: pd.DataFrame,     \n",
    "    items: pd.DataFrame,    \n",
    "    K_coverage: int\n",
    "):\n",
    "    \"\"\"\n",
    "    Calculate and return coverage@K metrics.\n",
    "\n",
    "    Parameters\n",
    "    ----------\n",
    "    - recs: reccomendations table containing `user_id, item_id, score` columns\n",
    "    - items: all items table containing `item_id` column\n",
    "    - K_coverage: at_K value for coverage\n",
    "    \"\"\"\n",
    "\n",
    "    # Берем срез топ-К\n",
    "    top_k_recs = (\n",
    "        recs\n",
    "        .sort_values(by=['user_id', 'score'], ascending=[True, False],\n",
    "                     ignore_index=True)\n",
    "        .groupby('user_id')\n",
    "        .head(K_coverage)\n",
    "    )\n",
    "    \n",
    "    # кол-во уникальных объектов в К-срезах к общему кол-ву объектов\n",
    "    return top_k_recs['item_id'].nunique() / items['item_id'].nunique()"
   ]
  },
  {
   "cell_type": "code",
   "execution_count": 32,
   "metadata": {},
   "outputs": [],
   "source": [
    "def get_rec_metrics(\n",
    "    recs: pd.DataFrame,     \n",
    "    items: pd.DataFrame,    \n",
    "    events_test: pd.DataFrame,\n",
    "    K_prc_rec: int = 5,\n",
    "    K_coverage: int = 50\n",
    "):\n",
    "    \"\"\"\n",
    "    Calculate and return precision@K, recall@K and coverage@K metrics.\n",
    "\n",
    "    Parameters\n",
    "    ----------\n",
    "    - recs: reccomendations table containing `user_id, item_id, score` columns\n",
    "    - items: all items table containing `item_id` column\n",
    "    - events_test: events table containing `user_id, item_id`\n",
    "    - K_prc_rec: at_K value for precision and recall \n",
    "    - K_coverage: at_K value for coverage\n",
    "    \"\"\"\n",
    "    \n",
    "    # print('Calculating precision_at_K...')\n",
    "    precision_at_K, recall_at_K = (\n",
    "        get_precision_recall_metrics(recs, events_test, K_prc_rec)\n",
    "    )\n",
    "\n",
    "    # print('Calculating coverage_at_K...')\n",
    "    coverage_at_K = get_item_coverage_metric(recs, items, K_coverage)\n",
    "\n",
    "    return {\n",
    "        f'precision_at_{K_prc_rec}_in_percent': precision_at_K * 100,\n",
    "        f'recall_at_{K_prc_rec}_in_percent': recall_at_K * 100,\n",
    "        f'coverage_at_{K_coverage}_in_percent': coverage_at_K * 100\n",
    "    }\n"
   ]
  },
  {
   "cell_type": "markdown",
   "metadata": {},
   "source": [
    "### 4. Подход к построению системы, методологичекие замечания "
   ]
  },
  {
   "cell_type": "markdown",
   "metadata": {},
   "source": [
    "Вспомним, что целевые события (добавление товара в корзину) имеют очень низкую частотность.  \n",
    "Посмотрим, какое кол-во пользваотелей совершивших целевое действие в тестовый период (после 1 сентябя) совершали его также в обучающий (до 1 сентября)."
   ]
  },
  {
   "cell_type": "code",
   "execution_count": 33,
   "metadata": {},
   "outputs": [
    {
     "name": "stdout",
     "output_type": "stream",
     "text": [
      "Effective users in test  : 4275\n",
      "of which \n",
      "  viewed items in train  : 527\n",
      "  added to cart in train : 191\n"
     ]
    }
   ],
   "source": [
    "# Пользователи добавившие товар в тестовый период\n",
    "effective_users_test = set(\n",
    "    events_test.query('event == \"addtocart\"')['user_id'].drop_duplicates()\n",
    ")\n",
    "\n",
    "# Пользователи, добавлявшие товар в корзину в обучающий период\n",
    "effective_users_train = set(\n",
    "    events_train.query('event == \"addtocart\"')['user_id'].drop_duplicates()\n",
    ")\n",
    "\n",
    "# Пользователи, совершившие действие и в обучающий, и в тестовый период\n",
    "effective_users_both_test_train = effective_users_test & effective_users_train\n",
    "\n",
    "# Пользователи, добавивишие товар тестовый период\n",
    "# и просматривавшие какие-либо товары в обучающий период\n",
    "effective_in_test_viewed_in_train = (\n",
    "    effective_users_test \n",
    "    & set(events_train.query('event == \"view\"')['user_id'].drop_duplicates())\n",
    ")\n",
    "print(f'Effective users in test  : {len(effective_users_test)}')\n",
    "print('of which ')\n",
    "print(f'  viewed items in train  : {len(effective_in_test_viewed_in_train)}')\n",
    "print(f'  added to cart in train : {len(effective_users_both_test_train)}')\n",
    "\n",
    "del (effective_users_test, effective_users_train,\n",
    "     effective_users_both_test_train, effective_in_test_viewed_in_train)"
   ]
  },
  {
   "cell_type": "markdown",
   "metadata": {},
   "source": [
    "Из общего кол-во пользователей, добавлявших товары в корзину в тестовый период (4275), только ~4% (191) делали это в обучающий период.  \n",
    "Таким образом, __в связи с низкой частотностью целевых событий оффлайн-история целевых действий пользователй у нас, по сути, отсутствует.__  \n",
    "Единственной дополнительной информацией для построения коллаборативынх оффлайн-моделей являеются _нецелевые_ события - просмотры товаров, которые имеются тоже для очень небольшого числа пользователей, около 12%   \n",
    "\n",
    "Исходя из изложенного, представляется разумным следующий архитектурный подход в виде объединения онлайн-рекомендаций на основе последних действий пользователя и предрассчитанных оффлайн-рекомендаций (при наличии офлайн-истории):\n",
    "- онлайн рекомендации:\n",
    "    - если данные об онлайн-взаимодействиях отсутсвуют (полностью холодный пользователь) - рекомендуем наиболее популярные товры (по всем категориям)\n",
    "    - если есть данные о последних онлайн-взаимодействиях - рекомендуем наиболее популярные в просматриваемых категориях _плюс_ подмешиваем наиболее популярные по всем категориям\n",
    "- оффлайн-рекомендации:\n",
    "    - используем предварительно рассчитанные персональные рекомендации на основе имеющейся истории (при наличии)"
   ]
  },
  {
   "cell_type": "markdown",
   "metadata": {},
   "source": [
    "Для дальнейшего расчета метрик выделим две группы 'тестовых' пользователей:\n",
    "- `test_users_all` - все пользователи, совершившие целевое действие (добалвение в корзину) в тестовый период\n",
    "- `test_users_with_history` - пользователи, совершившие целевое действие в тестовый период __И__ имеющие оффлайн историю взаимодействий (просмотр, добавление) в обучающий период"
   ]
  },
  {
   "cell_type": "code",
   "execution_count": 34,
   "metadata": {},
   "outputs": [
    {
     "name": "stdout",
     "output_type": "stream",
     "text": [
      "test_users_all           : 4275\n",
      "test_users_with_history  : 535\n"
     ]
    }
   ],
   "source": [
    "test_users_all = (\n",
    "    events_test\n",
    "    .query('event == \"addtocart\"')\n",
    "    ['user_id']\n",
    "    .drop_duplicates()\n",
    "    .sort_values()\n",
    ")\n",
    "\n",
    "test_users_with_history = test_users_all[\n",
    "    test_users_all.isin(\n",
    "        events_train\n",
    "        .query('event == \"view\" or event == \"addtocart\"')\n",
    "        ['user_id']\n",
    "        .drop_duplicates()\n",
    "    )\n",
    "]\n",
    "\n",
    "print(f'test_users_all           : {len(test_users_all)}')\n",
    "print(f'test_users_with_history  : {len(test_users_with_history)}')"
   ]
  },
  {
   "cell_type": "markdown",
   "metadata": {},
   "source": [
    "### 5. Построение моделей"
   ]
  },
  {
   "cell_type": "markdown",
   "metadata": {},
   "source": [
    "Зафиксируем `N_RECS_USER` - число рекомендаций, которое мы будем генерировать для отдельного пользователя. "
   ]
  },
  {
   "cell_type": "code",
   "execution_count": 35,
   "metadata": {},
   "outputs": [],
   "source": [
    "# Число рекомендаций для одного пользователя\n",
    "N_RECS_USER = 50"
   ]
  },
  {
   "cell_type": "markdown",
   "metadata": {},
   "source": [
    "#### 5.1 Топ популярных по добавлениям в корзину"
   ]
  },
  {
   "cell_type": "code",
   "execution_count": 36,
   "metadata": {},
   "outputs": [],
   "source": [
    "# Загружаем прредобработанные данные\n",
    "events_train = pd.read_parquet(PATH_EVENTS_TRAIN)\n",
    "events_test = pd.read_parquet(PATH_EVENTS_TEST)\n",
    "items_train = pd.read_parquet(PATH_ITEMS_TRAIN)"
   ]
  },
  {
   "cell_type": "markdown",
   "metadata": {},
   "source": [
    "Расчитаем индекс (score) популярности __по общему кол-ву добавлений товара в корзину__ (addtocart) различными пользователями.       \n",
    "- Отнормируем от 0 до 1, разделив на максимальное число добавлений одного товаара.             \n",
    "- Используем только обучающую выборку, берем N_RECS_USER наиболее популярных."
   ]
  },
  {
   "cell_type": "code",
   "execution_count": 37,
   "metadata": {},
   "outputs": [
    {
     "data": {
      "text/html": [
       "<div>\n",
       "<style scoped>\n",
       "    .dataframe tbody tr th:only-of-type {\n",
       "        vertical-align: middle;\n",
       "    }\n",
       "\n",
       "    .dataframe tbody tr th {\n",
       "        vertical-align: top;\n",
       "    }\n",
       "\n",
       "    .dataframe thead th {\n",
       "        text-align: right;\n",
       "    }\n",
       "</style>\n",
       "<table border=\"1\" class=\"dataframe\">\n",
       "  <thead>\n",
       "    <tr style=\"text-align: right;\">\n",
       "      <th></th>\n",
       "      <th>item_id</th>\n",
       "      <th>score</th>\n",
       "      <th>category_id</th>\n",
       "    </tr>\n",
       "  </thead>\n",
       "  <tbody>\n",
       "    <tr>\n",
       "      <th>0</th>\n",
       "      <td>461686</td>\n",
       "      <td>1.00</td>\n",
       "      <td>1037</td>\n",
       "    </tr>\n",
       "    <tr>\n",
       "      <th>1</th>\n",
       "      <td>312728</td>\n",
       "      <td>0.59</td>\n",
       "      <td>1098</td>\n",
       "    </tr>\n",
       "    <tr>\n",
       "      <th>2</th>\n",
       "      <td>409804</td>\n",
       "      <td>0.57</td>\n",
       "      <td>1191</td>\n",
       "    </tr>\n",
       "  </tbody>\n",
       "</table>\n",
       "</div>"
      ],
      "text/plain": [
       "   item_id  score  category_id\n",
       "0   461686   1.00         1037\n",
       "1   312728   0.59         1098\n",
       "2   409804   0.57         1191"
      ]
     },
     "execution_count": 37,
     "metadata": {},
     "output_type": "execute_result"
    }
   ],
   "source": [
    "# Топ популярных по добавлениям в корзину\n",
    "top_popular = (\n",
    "    events_train\n",
    "    .query('event == \"addtocart\"')\n",
    "    .groupby('item_id')\n",
    "    .agg(score=('user_id', 'count'))\n",
    "    .reset_index()\n",
    "    .sort_values(by='score', ascending=False, ignore_index=True)\n",
    ")\n",
    "top_popular['score'] /= top_popular['score'].max()\n",
    "top_popular['score'] = top_popular['score'].astype('float32')\n",
    "\n",
    "# Добавляем признак категории товара\n",
    "top_popular = top_popular.merge(\n",
    "    items_train[['item_id', 'category_id']],\n",
    "    on='item_id',\n",
    "    how='left'\n",
    ")\n",
    "\n",
    "# Визуальная проверка\n",
    "top_popular.head(3)"
   ]
  },
  {
   "cell_type": "markdown",
   "metadata": {},
   "source": [
    "Расчитаем оффлайн метрики для всех 'тестовых' пользователей:"
   ]
  },
  {
   "cell_type": "code",
   "execution_count": 38,
   "metadata": {},
   "outputs": [
    {
     "data": {
      "text/html": [
       "<div>\n",
       "<style scoped>\n",
       "    .dataframe tbody tr th:only-of-type {\n",
       "        vertical-align: middle;\n",
       "    }\n",
       "\n",
       "    .dataframe tbody tr th {\n",
       "        vertical-align: top;\n",
       "    }\n",
       "\n",
       "    .dataframe thead th {\n",
       "        text-align: right;\n",
       "    }\n",
       "</style>\n",
       "<table border=\"1\" class=\"dataframe\">\n",
       "  <thead>\n",
       "    <tr style=\"text-align: right;\">\n",
       "      <th></th>\n",
       "      <th>user_id</th>\n",
       "      <th>item_id</th>\n",
       "      <th>score</th>\n",
       "    </tr>\n",
       "  </thead>\n",
       "  <tbody>\n",
       "    <tr>\n",
       "      <th>0</th>\n",
       "      <td>155</td>\n",
       "      <td>461686</td>\n",
       "      <td>1.00</td>\n",
       "    </tr>\n",
       "  </tbody>\n",
       "</table>\n",
       "</div>"
      ],
      "text/plain": [
       "   user_id  item_id  score\n",
       "0      155   461686   1.00"
      ]
     },
     "execution_count": 38,
     "metadata": {},
     "output_type": "execute_result"
    }
   ],
   "source": [
    "# Подготовим таблицу с рекомендациями вида (user_id, item_id, score) \n",
    "# для всех тестовых пользователей  \n",
    "recs_popular_test_users_all = (\n",
    "    test_users_all.to_frame()\n",
    "    .merge(top_popular[['item_id', 'score']].head(N_RECS_USER), how='cross')\n",
    "    .reset_index(drop=True)\n",
    ")\n",
    "recs_popular_test_users_all.head(1)"
   ]
  },
  {
   "cell_type": "code",
   "execution_count": 39,
   "metadata": {},
   "outputs": [
    {
     "data": {
      "text/html": [
       "<div>\n",
       "<style scoped>\n",
       "    .dataframe tbody tr th:only-of-type {\n",
       "        vertical-align: middle;\n",
       "    }\n",
       "\n",
       "    .dataframe tbody tr th {\n",
       "        vertical-align: top;\n",
       "    }\n",
       "\n",
       "    .dataframe thead th {\n",
       "        text-align: right;\n",
       "    }\n",
       "</style>\n",
       "<table border=\"1\" class=\"dataframe\">\n",
       "  <thead>\n",
       "    <tr style=\"text-align: right;\">\n",
       "      <th></th>\n",
       "      <th>precision_at_5_in_percent</th>\n",
       "      <th>recall_at_5_in_percent</th>\n",
       "      <th>coverage_at_50_in_percent</th>\n",
       "    </tr>\n",
       "  </thead>\n",
       "  <tbody>\n",
       "    <tr>\n",
       "      <th>Top popular [all test users]</th>\n",
       "      <td>0.41</td>\n",
       "      <td>1.31</td>\n",
       "      <td>0.01</td>\n",
       "    </tr>\n",
       "  </tbody>\n",
       "</table>\n",
       "</div>"
      ],
      "text/plain": [
       "                              precision_at_5_in_percent  \\\n",
       "Top popular [all test users]                       0.41   \n",
       "\n",
       "                              recall_at_5_in_percent  \\\n",
       "Top popular [all test users]                    1.31   \n",
       "\n",
       "                              coverage_at_50_in_percent  \n",
       "Top popular [all test users]                       0.01  "
      ]
     },
     "execution_count": 39,
     "metadata": {},
     "output_type": "execute_result"
    }
   ],
   "source": [
    "# Рассчитываем метрики\n",
    "metrics = get_rec_metrics(\n",
    "    recs_popular_test_users_all,\n",
    "    items_train,\n",
    "    events_test.query('event == \"addtocart\"')\n",
    ")\n",
    "\n",
    "# Добавляем в таблицу для сравнения\n",
    "metrics_history = pd.DataFrame(metrics, index=['Top popular [all test users]'])\n",
    "metrics_history"
   ]
  },
  {
   "cell_type": "markdown",
   "metadata": {},
   "source": [
    "И дополнительно расчитаем оффлайн метрики для 'тестовых' пользователей с оффлайн-историей:"
   ]
  },
  {
   "cell_type": "code",
   "execution_count": 40,
   "metadata": {},
   "outputs": [
    {
     "data": {
      "text/html": [
       "<div>\n",
       "<style scoped>\n",
       "    .dataframe tbody tr th:only-of-type {\n",
       "        vertical-align: middle;\n",
       "    }\n",
       "\n",
       "    .dataframe tbody tr th {\n",
       "        vertical-align: top;\n",
       "    }\n",
       "\n",
       "    .dataframe thead th {\n",
       "        text-align: right;\n",
       "    }\n",
       "</style>\n",
       "<table border=\"1\" class=\"dataframe\">\n",
       "  <thead>\n",
       "    <tr style=\"text-align: right;\">\n",
       "      <th></th>\n",
       "      <th>user_id</th>\n",
       "      <th>item_id</th>\n",
       "      <th>score</th>\n",
       "    </tr>\n",
       "  </thead>\n",
       "  <tbody>\n",
       "    <tr>\n",
       "      <th>0</th>\n",
       "      <td>155</td>\n",
       "      <td>461686</td>\n",
       "      <td>1.00</td>\n",
       "    </tr>\n",
       "  </tbody>\n",
       "</table>\n",
       "</div>"
      ],
      "text/plain": [
       "   user_id  item_id  score\n",
       "0      155   461686   1.00"
      ]
     },
     "execution_count": 40,
     "metadata": {},
     "output_type": "execute_result"
    }
   ],
   "source": [
    "# Подготовим таблицу с рекомендациями вида (user_id, item_id, score) \n",
    "# для тестовых пользователей с оффлайн-историей:\n",
    "recs_popular_test_users_with_history = (\n",
    "    test_users_with_history.to_frame()\n",
    "    .merge(top_popular[['item_id', 'score']].head(N_RECS_USER), how='cross')\n",
    "    .reset_index(drop=True)\n",
    ")\n",
    "recs_popular_test_users_with_history.head(1)"
   ]
  },
  {
   "cell_type": "code",
   "execution_count": 41,
   "metadata": {},
   "outputs": [
    {
     "data": {
      "text/html": [
       "<div>\n",
       "<style scoped>\n",
       "    .dataframe tbody tr th:only-of-type {\n",
       "        vertical-align: middle;\n",
       "    }\n",
       "\n",
       "    .dataframe tbody tr th {\n",
       "        vertical-align: top;\n",
       "    }\n",
       "\n",
       "    .dataframe thead th {\n",
       "        text-align: right;\n",
       "    }\n",
       "</style>\n",
       "<table border=\"1\" class=\"dataframe\">\n",
       "  <thead>\n",
       "    <tr style=\"text-align: right;\">\n",
       "      <th></th>\n",
       "      <th>precision_at_5_in_percent</th>\n",
       "      <th>recall_at_5_in_percent</th>\n",
       "      <th>coverage_at_50_in_percent</th>\n",
       "    </tr>\n",
       "  </thead>\n",
       "  <tbody>\n",
       "    <tr>\n",
       "      <th>Top popular [all test users]</th>\n",
       "      <td>0.41</td>\n",
       "      <td>1.31</td>\n",
       "      <td>0.01</td>\n",
       "    </tr>\n",
       "    <tr>\n",
       "      <th>Top popular [test users with history]</th>\n",
       "      <td>0.67</td>\n",
       "      <td>1.27</td>\n",
       "      <td>0.01</td>\n",
       "    </tr>\n",
       "  </tbody>\n",
       "</table>\n",
       "</div>"
      ],
      "text/plain": [
       "                                       precision_at_5_in_percent  \\\n",
       "Top popular [all test users]                                0.41   \n",
       "Top popular [test users with history]                       0.67   \n",
       "\n",
       "                                       recall_at_5_in_percent  \\\n",
       "Top popular [all test users]                             1.31   \n",
       "Top popular [test users with history]                    1.27   \n",
       "\n",
       "                                       coverage_at_50_in_percent  \n",
       "Top popular [all test users]                                0.01  \n",
       "Top popular [test users with history]                       0.01  "
      ]
     },
     "execution_count": 41,
     "metadata": {},
     "output_type": "execute_result"
    }
   ],
   "source": [
    "# Рассчитываем метрики\n",
    "metrics = get_rec_metrics(\n",
    "    recs_popular_test_users_with_history,\n",
    "    items_train,\n",
    "    events_test.query('event == \"addtocart\"')\n",
    ")\n",
    "\n",
    "# Добавляем в таблицу для сравнения\n",
    "metrics_history = pd.concat([\n",
    "    metrics_history,\n",
    "    pd.DataFrame(metrics, index=['Top popular [test users with history]'])\n",
    "])\n",
    "\n",
    "metrics_history"
   ]
  },
  {
   "cell_type": "markdown",
   "metadata": {},
   "source": [
    "Неперсонализированные оффлайн-рекомендации топ-популярных товаров имеют ожидаемо невысокие метрики."
   ]
  },
  {
   "cell_type": "code",
   "execution_count": 42,
   "metadata": {},
   "outputs": [],
   "source": [
    "# Сохраняем таблицу локально\n",
    "top_popular.to_parquet(PATH_TOP_POPULAR)"
   ]
  },
  {
   "cell_type": "code",
   "execution_count": 43,
   "metadata": {},
   "outputs": [],
   "source": [
    "# Логируем артефакты шага\n",
    "with mlflow.start_run(run_id=create_unique_run_by_name(\n",
    "    EXPERIMENT_NAME, RUN_NAME_TOP_POPULAR)\n",
    "):\n",
    "    mlflow.log_metrics(metrics=metrics)\n",
    "    mlflow.log_dict(metrics_history.to_dict(index=True),\n",
    "                    'metrics_history.json')\n",
    "    mlflow.log_artifact(PATH_TOP_POPULAR)"
   ]
  },
  {
   "cell_type": "markdown",
   "metadata": {},
   "source": [
    "#### 5.2 Персональные ALS - наивный подход"
   ]
  },
  {
   "cell_type": "markdown",
   "metadata": {},
   "source": [
    "Для пользователей имеющих оффлайн-историю, в качестве первой попытки построим персональные рекомендации методом ALS следующим 'наивным' образом:  \n",
    "-  для увеличения числа 'покрытых' пользователей добавим при обучении модели (построении матрицы) к целевым взаимодействиям (добавление товара в корзину) также _нецелевые_, а именно события просмотра товаров. "
   ]
  },
  {
   "cell_type": "code",
   "execution_count": 45,
   "metadata": {},
   "outputs": [],
   "source": [
    "# Подготовим таблицу событий для построения матрицы:\n",
    "# оставим только события просмора/добалвнеия в корзину,\n",
    "# удалим для каждого пользователя дублирующиеся события\n",
    "# взаимодействия (с тем же товаром)\n",
    "events_train_als = (\n",
    "    events_train\n",
    "    .query('event == \"addtocart\" or event == \"view\"')\n",
    "    .drop_duplicates(['user_id', 'event', 'item_id'])\n",
    "    [['user_id', 'item_id', 'event']]\n",
    "    .reset_index(drop=True)\n",
    ")"
   ]
  },
  {
   "cell_type": "code",
   "execution_count": 46,
   "metadata": {},
   "outputs": [],
   "source": [
    "# Создаем энкодеры для перекодирования идентификаторов user_id, item_id \n",
    "# в натруральный ряд  {0, 1, ...} для построения матрицы взаимодействий\n",
    "\n",
    "user_encoder = LabelEncoder().fit(\n",
    "    events_train_als['user_id'].drop_duplicates().sort_values()\n",
    ")\n",
    "item_encoder = LabelEncoder().fit(\n",
    "    events_train_als['item_id'].drop_duplicates().sort_values()\n",
    ")"
   ]
  },
  {
   "cell_type": "code",
   "execution_count": 47,
   "metadata": {},
   "outputs": [],
   "source": [
    "# создаём sparse-матрицу (user x item) \n",
    "user_item_matrix = scipy.sparse.csr_matrix(\n",
    "    # кортеж вида (data, (row_index, col_index))\n",
    "    (\n",
    "        # взаимодействие -> единица\n",
    "        np.ones(len(events_train_als), dtype=np.int8),  \n",
    "        (\n",
    "            user_encoder.transform(events_train_als['user_id']),\n",
    "            item_encoder.transform(events_train_als['item_id'])\n",
    "        )\n",
    "    )\n",
    ")"
   ]
  },
  {
   "cell_type": "raw",
   "metadata": {
    "vscode": {
     "languageId": "raw"
    }
   },
   "source": [
    "# Раскладываем матрицу с помощью ALS\n",
    "als_model = AlternatingLeastSquares(\n",
    "    factors=50,\n",
    "    iterations=50,\n",
    "    regularization=0.05,\n",
    "    random_state=RANDOM_STATE\n",
    ")\n",
    "als_model.fit(user_item_matrix)\n",
    "\n",
    "# Сохраним обученную модель\n",
    "with open('models/als_model_naive.pkl', 'wb') as f:\n",
    "    pickle.dump(als_model, f)"
   ]
  },
  {
   "cell_type": "raw",
   "metadata": {
    "vscode": {
     "languageId": "raw"
    }
   },
   "source": [
    "# Эталоннный расчет для проверки загружаемой модели\n",
    "als_model.recommend(1000, user_item_matrix[1000],\n",
    "                    filter_already_liked_items=True, N=10)\n",
    ">>>\n",
    "(array([ 42683,  61085, 144855,  71680, 116729,  18133,  82712, 120633,\n",
    "        148128, 135461], dtype=int32),\n",
    " array([0.02413062, 0.01779727, 0.01478819, 0.01281088, 0.01233859,\n",
    "        0.01096363, 0.01063753, 0.00850993, 0.00819131, 0.00719669],\n",
    "       dtype=float32))"
   ]
  },
  {
   "cell_type": "code",
   "execution_count": 48,
   "metadata": {},
   "outputs": [],
   "source": [
    "# Для экономии времени - загружаем обученную модель\n",
    "with open('models/als_model_naive.pkl', 'rb') as f:\n",
    "    als_model = pickle.load(f)"
   ]
  },
  {
   "cell_type": "raw",
   "metadata": {
    "vscode": {
     "languageId": "raw"
    }
   },
   "source": [
    "# Проврерочный расчет\n",
    "als_model.recommend(\n",
    "    1000, \n",
    "    user_item_matrix[1000], \n",
    "    filter_already_liked_items=True,\n",
    "    N=10\n",
    ")"
   ]
  },
  {
   "cell_type": "code",
   "execution_count": 49,
   "metadata": {},
   "outputs": [],
   "source": [
    "# Получаем рекомендации для пользователй test_user_with_history\n",
    "als_item_ids, als_scores = als_model.recommend(\n",
    "    user_encoder.transform(test_users_with_history),\n",
    "    user_item_matrix[user_encoder.transform(test_users_with_history)], \n",
    "    filter_already_liked_items=False,\n",
    "    N=N_RECS_USER\n",
    ")"
   ]
  },
  {
   "cell_type": "code",
   "execution_count": 50,
   "metadata": {},
   "outputs": [
    {
     "data": {
      "text/html": [
       "<div>\n",
       "<style scoped>\n",
       "    .dataframe tbody tr th:only-of-type {\n",
       "        vertical-align: middle;\n",
       "    }\n",
       "\n",
       "    .dataframe tbody tr th {\n",
       "        vertical-align: top;\n",
       "    }\n",
       "\n",
       "    .dataframe thead th {\n",
       "        text-align: right;\n",
       "    }\n",
       "</style>\n",
       "<table border=\"1\" class=\"dataframe\">\n",
       "  <thead>\n",
       "    <tr style=\"text-align: right;\">\n",
       "      <th></th>\n",
       "      <th>user_id</th>\n",
       "      <th>item_id</th>\n",
       "      <th>score</th>\n",
       "    </tr>\n",
       "  </thead>\n",
       "  <tbody>\n",
       "    <tr>\n",
       "      <th>0</th>\n",
       "      <td>155</td>\n",
       "      <td>231482</td>\n",
       "      <td>0.01</td>\n",
       "    </tr>\n",
       "  </tbody>\n",
       "</table>\n",
       "</div>"
      ],
      "text/plain": [
       "   user_id  item_id  score\n",
       "0      155   231482   0.01"
      ]
     },
     "execution_count": 50,
     "metadata": {},
     "output_type": "execute_result"
    }
   ],
   "source": [
    "# Перепаковываем рекомендации в таблицу формата\n",
    "# (user_id, item_id, score)\n",
    "personal_als = pd.DataFrame({\n",
    "    'user_id': user_encoder.transform(test_users_with_history),\n",
    "    'item_id': als_item_ids.tolist(),\n",
    "    'score': als_scores.tolist()\n",
    "})\n",
    "personal_als = personal_als.explode(['item_id', 'score'], ignore_index=True)\n",
    "\n",
    "# Приводим типы\n",
    "personal_als['user_id'] = personal_als['user_id'].astype('int32')\n",
    "personal_als['item_id'] = personal_als['item_id'].astype('int32')\n",
    "personal_als['score'] = personal_als['score'].astype('float32')\n",
    "\n",
    "# Перекодируем индентификаторы в исходные \n",
    "personal_als['user_id'] = (\n",
    "    user_encoder.inverse_transform(personal_als['user_id'])\n",
    ")\n",
    "personal_als['item_id'] = (\n",
    "    item_encoder.inverse_transform(personal_als['item_id'])\n",
    ")\n",
    "personal_als.head(1)"
   ]
  },
  {
   "cell_type": "code",
   "execution_count": 51,
   "metadata": {},
   "outputs": [],
   "source": [
    "# Функция загрузки таблицы метрик с предыдущего шага\n",
    "def get_metrics_history(experiment_name: str, run_name: str) -> pd.DataFrame:\n",
    "    return pd.DataFrame(\n",
    "        mlflow.artifacts.load_dict(\n",
    "            get_run_by_name(experiment_name, run_name).info.artifact_uri \n",
    "            + '/metrics_history.json'\n",
    "        )\n",
    "    )"
   ]
  },
  {
   "cell_type": "code",
   "execution_count": 52,
   "metadata": {},
   "outputs": [
    {
     "name": "stderr",
     "output_type": "stream",
     "text": [
      "Downloading artifacts: 100%|██████████| 1/1 [00:00<00:00, 60.49it/s]\n"
     ]
    },
    {
     "data": {
      "text/html": [
       "<div>\n",
       "<style scoped>\n",
       "    .dataframe tbody tr th:only-of-type {\n",
       "        vertical-align: middle;\n",
       "    }\n",
       "\n",
       "    .dataframe tbody tr th {\n",
       "        vertical-align: top;\n",
       "    }\n",
       "\n",
       "    .dataframe thead th {\n",
       "        text-align: right;\n",
       "    }\n",
       "</style>\n",
       "<table border=\"1\" class=\"dataframe\">\n",
       "  <thead>\n",
       "    <tr style=\"text-align: right;\">\n",
       "      <th></th>\n",
       "      <th>precision_at_5_in_percent</th>\n",
       "      <th>recall_at_5_in_percent</th>\n",
       "      <th>coverage_at_50_in_percent</th>\n",
       "    </tr>\n",
       "  </thead>\n",
       "  <tbody>\n",
       "    <tr>\n",
       "      <th>Top popular [all test users]</th>\n",
       "      <td>0.41</td>\n",
       "      <td>1.31</td>\n",
       "      <td>0.01</td>\n",
       "    </tr>\n",
       "    <tr>\n",
       "      <th>Top popular [test users with history]</th>\n",
       "      <td>0.67</td>\n",
       "      <td>1.27</td>\n",
       "      <td>0.01</td>\n",
       "    </tr>\n",
       "    <tr>\n",
       "      <th>Naive ALS [test users with history]</th>\n",
       "      <td>1.23</td>\n",
       "      <td>3.67</td>\n",
       "      <td>0.68</td>\n",
       "    </tr>\n",
       "  </tbody>\n",
       "</table>\n",
       "</div>"
      ],
      "text/plain": [
       "                                       precision_at_5_in_percent  \\\n",
       "Top popular [all test users]                                0.41   \n",
       "Top popular [test users with history]                       0.67   \n",
       "Naive ALS [test users with history]                         1.23   \n",
       "\n",
       "                                       recall_at_5_in_percent  \\\n",
       "Top popular [all test users]                             1.31   \n",
       "Top popular [test users with history]                    1.27   \n",
       "Naive ALS [test users with history]                      3.67   \n",
       "\n",
       "                                       coverage_at_50_in_percent  \n",
       "Top popular [all test users]                                0.01  \n",
       "Top popular [test users with history]                       0.01  \n",
       "Naive ALS [test users with history]                         0.68  "
      ]
     },
     "execution_count": 52,
     "metadata": {},
     "output_type": "execute_result"
    }
   ],
   "source": [
    "# Рассчитаем метрики\n",
    "metrics = get_rec_metrics(\n",
    "    personal_als,\n",
    "    items_train,\n",
    "    events_test.query('event == \"addtocart\"')\n",
    ")\n",
    "\n",
    "# Добавим в таблицу для сравнения\n",
    "metrics_history = pd.concat([\n",
    "    get_metrics_history(EXPERIMENT_NAME, RUN_NAME_TOP_POPULAR),\n",
    "    pd.DataFrame(metrics, index=['Naive ALS [test users with history]'])\n",
    "])\n",
    "metrics_history"
   ]
  },
  {
   "cell_type": "markdown",
   "metadata": {},
   "source": [
    "Для пользователей, имеющих оффлайн-историю, применнеие ALS с 'наивным' добавлением к обучающим событиям _нецелевых_ событий просмотра товаров приводит к заметному увеличению метрик. "
   ]
  },
  {
   "cell_type": "code",
   "execution_count": 53,
   "metadata": {},
   "outputs": [],
   "source": [
    "# Сохраняем таблицу локально\n",
    "personal_als.to_parquet(PATH_NAIVE_ALS)\n",
    "\n",
    "# Логируем артефакты шага\n",
    "with mlflow.start_run(run_id=create_unique_run_by_name(\n",
    "    EXPERIMENT_NAME, RUN_NAME_NAIVE_ALS)\n",
    "):\n",
    "    mlflow.log_metrics(metrics=metrics)\n",
    "    mlflow.log_dict(metrics_history.to_dict(index=True),\n",
    "                    'metrics_history.json')\n",
    "    mlflow.log_artifact(PATH_NAIVE_ALS)"
   ]
  },
  {
   "cell_type": "markdown",
   "metadata": {},
   "source": [
    "#### 5.3 Персональные ALS - взвешивание обучающих событий"
   ]
  },
  {
   "cell_type": "markdown",
   "metadata": {},
   "source": [
    "Попробуем улучшить качество персональных ALS рекомендаций.   \n",
    "Для этого будем добавлять события в матрицу взаимодействий с разными весами:\n",
    " - более _низкий_ вес для событий _просмотра_ товара\n",
    " - более _высокий_ вес для событий _добавления_ тоавара в корзину"
   ]
  },
  {
   "cell_type": "markdown",
   "metadata": {},
   "source": [
    "__NB__ Используем следующую эвристику: учитывая, что медианное число просмотров товара перед добавлением в корзину равно 3 (трем), т.е. соотношение _частот_ просмотра/добавления равно 3 : 1 (для 'целевых' пользователей) - развернем пропорцию и установим ссотношение _весов_ для событий просмотра/добалвения в матрице взаимодействия как __1 : 3__."
   ]
  },
  {
   "cell_type": "code",
   "execution_count": 54,
   "metadata": {},
   "outputs": [],
   "source": [
    "# Веса вестов для различных типов событий \n",
    "VIEW_WEIGHT = .25\n",
    "ADDTOCART_WEIGHT = .75\n",
    "\n",
    "# Добваляем столбец с весами \n",
    "# NB: в таблице уже оставлено только два типа событий (view и addtocart)\n",
    "events_train_als['weight'] = events_train_als['event'].map(\n",
    "    lambda x: VIEW_WEIGHT if x == 'view' else ADDTOCART_WEIGHT\n",
    ").astype('float32')"
   ]
  },
  {
   "cell_type": "code",
   "execution_count": 55,
   "metadata": {},
   "outputs": [],
   "source": [
    "# Создаем энкодеры для перекодирования идентификаторов user_id, item_id \n",
    "# в натруральный ряд  {0, 1, ...} для построения матрицы взаимодействий\n",
    "\n",
    "user_encoder = LabelEncoder().fit(\n",
    "    events_train_als['user_id'].drop_duplicates().sort_values()\n",
    ")\n",
    "item_encoder = LabelEncoder().fit(\n",
    "    events_train_als['item_id'].drop_duplicates().sort_values()\n",
    ")"
   ]
  },
  {
   "cell_type": "code",
   "execution_count": 56,
   "metadata": {},
   "outputs": [],
   "source": [
    "# создаём sparse-матрицу (user x item) \n",
    "user_item_matrix = scipy.sparse.csr_matrix(\n",
    "    # кортеж вида (data, (row_index, col_index))\n",
    "    (   \n",
    "        # Используем разные веса для разных событий\n",
    "        events_train_als['weight'].to_numpy(),  \n",
    "        (\n",
    "            user_encoder.transform(events_train_als['user_id']),\n",
    "            item_encoder.transform(events_train_als['item_id'])\n",
    "        )\n",
    "    )\n",
    ")"
   ]
  },
  {
   "cell_type": "raw",
   "metadata": {
    "vscode": {
     "languageId": "raw"
    }
   },
   "source": [
    "# Время выполнения ~3 минуты\n",
    "# Раскладываем матрицу с помощью ALS\n",
    "als_model = AlternatingLeastSquares(\n",
    "    factors=50,\n",
    "    iterations=50,\n",
    "    regularization=0.05,\n",
    "    random_state=RANDOM_STATE\n",
    ")\n",
    "als_model.fit(user_item_matrix)\n",
    "\n",
    "# Сохраним обученную модель\n",
    "with open('models/als_model_weighted.pkl', 'wb') as f:\n",
    "    pickle.dump(als_model, f)"
   ]
  },
  {
   "cell_type": "raw",
   "metadata": {
    "vscode": {
     "languageId": "raw"
    }
   },
   "source": [
    "# Эталоннный расчет для проверки загружаемой модели\n",
    "als_model.recommend(1000, user_item_matrix[1000],\n",
    "                    filter_already_liked_items=True, N=10)\n",
    ">>>\n",
    "(array([  6506,  50711, 171423,  34270,  99061,  45363, 130113,  82006,\n",
    "         24705, 133791], dtype=int32),\n",
    " array([0.00199893, 0.00182951, 0.00170949, 0.00164398, 0.00163615,\n",
    "        0.00158818, 0.00156871, 0.00156244, 0.00154829, 0.00149766],\n",
    "       dtype=float32))"
   ]
  },
  {
   "cell_type": "raw",
   "metadata": {
    "vscode": {
     "languageId": "raw"
    }
   },
   "source": [
    "# Для экономии времени - загружаем обученную модель\n",
    "with open('models/als_model_weighted.pkl', 'rb') as f:\n",
    "    als_model = pickle.load(f)"
   ]
  },
  {
   "cell_type": "raw",
   "metadata": {
    "vscode": {
     "languageId": "raw"
    }
   },
   "source": [
    "# Проврерочный расчет\n",
    "als_model.recommend(\n",
    "    1000, \n",
    "    user_item_matrix[1000], \n",
    "    filter_already_liked_items=True,\n",
    "    N=10\n",
    ")"
   ]
  },
  {
   "cell_type": "raw",
   "metadata": {
    "vscode": {
     "languageId": "raw"
    }
   },
   "source": [
    "# Время выполнения ~ 6 минут\n",
    "# Получаем рекомендации для всех пользователй из обучающей выборки\n",
    "als_item_ids, als_scores = als_model.recommend(\n",
    "    range(len(user_encoder.classes_)),\n",
    "    user_item_matrix, \n",
    "    filter_already_liked_items=False,\n",
    "    N=N_RECS_USER\n",
    ")"
   ]
  },
  {
   "cell_type": "raw",
   "metadata": {
    "vscode": {
     "languageId": "raw"
    }
   },
   "source": [
    "# Перепаковываем рекомендации в таблицу формата\n",
    "# (user_id, item_id, score)\n",
    "personal_als = pd.DataFrame({\n",
    "    'user_id': range(len(user_encoder.classes_)),\n",
    "    'item_id': als_item_ids.tolist(),\n",
    "    'score': als_scores.tolist()\n",
    "})\n",
    "personal_als = personal_als.explode(['item_id', 'score'], ignore_index=True)\n",
    "\n",
    "# Приводим типы\n",
    "personal_als['user_id'] = personal_als['user_id'].astype('int32')\n",
    "personal_als['item_id'] = personal_als['item_id'].astype('int32')\n",
    "personal_als['score'] = personal_als['score'].astype('float32')\n",
    "\n",
    "# Перекодируем индентификаторы в исходные \n",
    "personal_als['user_id'] = (\n",
    "    user_encoder.inverse_transform(personal_als['user_id'])\n",
    ")\n",
    "personal_als['item_id'] = (\n",
    "    item_encoder.inverse_transform(personal_als['item_id'])\n",
    ")\n",
    "personal_als.head(1)"
   ]
  },
  {
   "cell_type": "code",
   "execution_count": 57,
   "metadata": {},
   "outputs": [],
   "source": [
    "# Для экономии времени загружаем рассчитанные рекомендации\n",
    "personal_als = pd.read_parquet(PATH_WEIGHTED_ALS)"
   ]
  },
  {
   "cell_type": "code",
   "execution_count": 58,
   "metadata": {},
   "outputs": [
    {
     "name": "stderr",
     "output_type": "stream",
     "text": [
      "Downloading artifacts: 100%|██████████| 1/1 [00:00<00:00, 72.62it/s]\n"
     ]
    },
    {
     "data": {
      "text/html": [
       "<div>\n",
       "<style scoped>\n",
       "    .dataframe tbody tr th:only-of-type {\n",
       "        vertical-align: middle;\n",
       "    }\n",
       "\n",
       "    .dataframe tbody tr th {\n",
       "        vertical-align: top;\n",
       "    }\n",
       "\n",
       "    .dataframe thead th {\n",
       "        text-align: right;\n",
       "    }\n",
       "</style>\n",
       "<table border=\"1\" class=\"dataframe\">\n",
       "  <thead>\n",
       "    <tr style=\"text-align: right;\">\n",
       "      <th></th>\n",
       "      <th>precision_at_5_in_percent</th>\n",
       "      <th>recall_at_5_in_percent</th>\n",
       "      <th>coverage_at_50_in_percent</th>\n",
       "    </tr>\n",
       "  </thead>\n",
       "  <tbody>\n",
       "    <tr>\n",
       "      <th>Top popular [all test users]</th>\n",
       "      <td>0.41</td>\n",
       "      <td>1.31</td>\n",
       "      <td>0.01</td>\n",
       "    </tr>\n",
       "    <tr>\n",
       "      <th>Top popular [test users with history]</th>\n",
       "      <td>0.67</td>\n",
       "      <td>1.27</td>\n",
       "      <td>0.01</td>\n",
       "    </tr>\n",
       "    <tr>\n",
       "      <th>Naive ALS [test users with history]</th>\n",
       "      <td>1.23</td>\n",
       "      <td>3.67</td>\n",
       "      <td>0.68</td>\n",
       "    </tr>\n",
       "    <tr>\n",
       "      <th>Weighted ALS [test users with history]</th>\n",
       "      <td>1.40</td>\n",
       "      <td>4.07</td>\n",
       "      <td>1.07</td>\n",
       "    </tr>\n",
       "  </tbody>\n",
       "</table>\n",
       "</div>"
      ],
      "text/plain": [
       "                                        precision_at_5_in_percent  \\\n",
       "Top popular [all test users]                                 0.41   \n",
       "Top popular [test users with history]                        0.67   \n",
       "Naive ALS [test users with history]                          1.23   \n",
       "Weighted ALS [test users with history]                       1.40   \n",
       "\n",
       "                                        recall_at_5_in_percent  \\\n",
       "Top popular [all test users]                              1.31   \n",
       "Top popular [test users with history]                     1.27   \n",
       "Naive ALS [test users with history]                       3.67   \n",
       "Weighted ALS [test users with history]                    4.07   \n",
       "\n",
       "                                        coverage_at_50_in_percent  \n",
       "Top popular [all test users]                                 0.01  \n",
       "Top popular [test users with history]                        0.01  \n",
       "Naive ALS [test users with history]                          0.68  \n",
       "Weighted ALS [test users with history]                       1.07  "
      ]
     },
     "execution_count": 58,
     "metadata": {},
     "output_type": "execute_result"
    }
   ],
   "source": [
    "# Рассчитаем метрики\n",
    "metrics = get_rec_metrics(\n",
    "    personal_als[personal_als['user_id'].isin(test_users_with_history)],\n",
    "    items_train,\n",
    "    events_test.query('event == \"addtocart\"')\n",
    ")\n",
    "\n",
    "# Добавим в таблицу для сравнения\n",
    "metrics_history = pd.concat([\n",
    "    get_metrics_history(EXPERIMENT_NAME, RUN_NAME_NAIVE_ALS),\n",
    "    pd.DataFrame(metrics, index=['Weighted ALS [test users with history]'])\n",
    "])\n",
    "metrics_history"
   ]
  },
  {
   "cell_type": "markdown",
   "metadata": {},
   "source": [
    "Взвешивание событий при построении матрицы взаимодействий приводит к заметному улучшению оффлайн-метрик (на 10% по метрикам precision/recall). "
   ]
  },
  {
   "cell_type": "code",
   "execution_count": 59,
   "metadata": {},
   "outputs": [],
   "source": [
    "# Сохраняем таблицу локально\n",
    "personal_als.to_parquet(PATH_WEIGHTED_ALS)\n",
    "\n",
    "# Логируем артефакты шага\n",
    "with mlflow.start_run(run_id=create_unique_run_by_name(\n",
    "    EXPERIMENT_NAME, RUN_NAME_WEIGHTED_ALS)\n",
    "):\n",
    "    mlflow.log_metrics(metrics=metrics)\n",
    "    mlflow.log_dict(metrics_history.to_dict(index=True),\n",
    "                    'metrics_history.json')\n",
    "    mlflow.log_artifact(PATH_WEIGHTED_ALS)"
   ]
  },
  {
   "cell_type": "markdown",
   "metadata": {},
   "source": [
    "### 5. Выводы"
   ]
  },
  {
   "cell_type": "markdown",
   "metadata": {},
   "source": [
    "__Действия по очистке (фильтрации) даыннх по результатам EDA__\n",
    "\n",
    "- из каталога товаров удаляем товары с item_id, отсутствующим в дереве категорий\n",
    "- из всех признаков товаров, оставляем только category_id\n",
    "- из таблицы событий удаляем события, относящиеся к 'неизвестынм' товарам (отсутствующим в каталоге items)\n",
    "\n",
    "__Разделение выборки__\n",
    "- в качестве разделяющей даты выберем __1 сентября__ :)\n",
    "- поскольку свойства товаров в каталоге items изменяются со временем, сформируем обучающий каталог товарв items_train - состояние каталога на момент обучения модели (на 1 сентября), оставим в таблице только последние по времени записи о признаках (категории) товаров.\n",
    "- удалим из обучающей выборки события для товаров, которые отсутствуют в 'обучающем' какталоге товаров, т.е. свойства которых неизвестны на момент обучения модели\n",
    "\n",
    "__Метрики__\n",
    "\n",
    "Для оценки качества оффлайн рекомендаций будем исопльзовать следующие метрики:\n",
    "- _precision@5, recall@5_ - точность и полнота для среза топ-5 рекомендаций\n",
    "- _coverage@50_ - покрытие по объектам для cреза топ-50 рекомендаций\n",
    "\n",
    "__Подход к построению системы, методологичекие замечания__\n",
    "\n",
    "Из общего кол-во пользователей, добавлявших товары в корзину в тестовый период (4275), только ~4% (191) делали это в обучающий период.  \n",
    "__В связи с низкой частотностью целевых событий оффлайн-история целевых действий пользователй у нас, по сути, отсутствует.__  \n",
    "Единственной дополнительной информацией для построения коллаборативынх оффлайн-моделей являеются _нецелевые_ события - просмотры товаров, которые имеются тоже для очень небольшого числа пользователей (около 12%, оценка по тестовой выборке)   \n",
    "\n",
    "Исходя из изложенного, представляется разумным следующий архитектурный подход в виде объединения онлайн-рекомендаций на основе последних действий пользователя и предрассчитанных персональных оффлайн-рекомендаций (для ~12% пользователй с оффлайн-историей):\n",
    "- онлайн рекомендации:\n",
    "    - если данные об онлайн-взаимодействиях отсутсвуют (полностью холодный пользователь) - рекомендуем наиболее популярные товры (по всем категориям)\n",
    "    - если есть данные о последних онлайн-взаимодействиях - рекомендуем наиболее популярные в просматриваемых категориях _плюс_ подмешиваем наиболее популярные по всем категориям\n",
    "- оффлайн-рекомендации:\n",
    "    - используем предварительно рассчитанные персональные рекомендации на основе имеющейся истории (при наличии)\n",
    "\n",
    "\n",
    "__Эксперименты с различными оффлайн-моделями__\n",
    "\n",
    "- _Топ популярных_: Неперсонализированные оффлайн-рекомендации топ-популярных товаров имеют ожидаемо невысокие метрики.\n",
    "\n",
    "- _Naive ALS_: Для пользователей, имеющих оффлайн-историю, применнеие ALS с '_наивным_' добавлением к обучающим событиям _нецелевых_ событий просмотра товаров приводит к заметному увеличению метрик. \n",
    "\n",
    "- _Weighted ALS_ Взвешивание событий при построении матрицы взаимодействий приводит к заметному улучшению оффлайн-метрик (на 10% по метрикам precision/recall).\n",
    "\n",
    "В связи с малой долей пользователей с оффлайн-историей и ограниченным временм на выполение проекта, дальнейшее улучшение качества персональных оффлайн рекомендаций (разработка дополнитлеьных кандидатов, построение ранжирующей модели и т.д.) представлеется излишней.\n",
    "\n",
    "Итоговая таблица с оффлайн-метриками:\n",
    "\n",
    "<div>\n",
    "<table border=\"1\" class=\"dataframe\">\n",
    "  <thead>\n",
    "    <tr style=\"text-align: right;\">\n",
    "      <th></th>\n",
    "      <th>precision_at_5_in_percent</th>\n",
    "      <th>recall_at_5_in_percent</th>\n",
    "      <th>coverage_at_50_in_percent</th>\n",
    "    </tr>\n",
    "  </thead>\n",
    "  <tbody>\n",
    "    <tr>\n",
    "      <th>Top popular [all test users]</th>\n",
    "      <td>0.41</td>\n",
    "      <td>1.31</td>\n",
    "      <td>0.01</td>\n",
    "    </tr>\n",
    "    <tr>\n",
    "      <th>Top popular [test users with history]</th>\n",
    "      <td>0.67</td>\n",
    "      <td>1.27</td>\n",
    "      <td>0.01</td>\n",
    "    </tr>\n",
    "    <tr>\n",
    "      <th>Naive ALS [test users with history]</th>\n",
    "      <td>1.23</td>\n",
    "      <td>3.67</td>\n",
    "      <td>0.68</td>\n",
    "    </tr>\n",
    "    <tr>\n",
    "      <th>Weighted ALS [test users with history]</th>\n",
    "      <td>1.40</td>\n",
    "      <td>4.07</td>\n",
    "      <td>1.07</td>\n",
    "    </tr>\n",
    "  </tbody>\n",
    "</table>\n",
    "</div>\n",
    "\n",
    "В качестве итоговых моделей для продуктивизации будем использовать _Топ популярных_ (для онлайн-рекомендаций, в т.ч. с учетом категории для персонифицированных онлайн) и _Weighted ALS_ для персонифицированных оффлайн. \n",
    "\n"
   ]
  }
 ],
 "metadata": {
  "kernelspec": {
   "display_name": ".venv",
   "language": "python",
   "name": "python3"
  },
  "language_info": {
   "codemirror_mode": {
    "name": "ipython",
    "version": 3
   },
   "file_extension": ".py",
   "mimetype": "text/x-python",
   "name": "python",
   "nbconvert_exporter": "python",
   "pygments_lexer": "ipython3",
   "version": "3.10.12"
  }
 },
 "nbformat": 4,
 "nbformat_minor": 2
}
